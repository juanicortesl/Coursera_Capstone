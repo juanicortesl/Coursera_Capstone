{
 "cells": [
  {
   "cell_type": "markdown",
   "metadata": {},
   "source": [
    "# Capstone Project: Introduction and Data"
   ]
  },
  {
   "cell_type": "markdown",
   "metadata": {},
   "source": [
    "## Introduction\n",
    "The city of Santiago in Chile is known for its huge seggregation. The city is divided into 31 different communes. The upper class is mainly concentrated in the north eastern communes. The lower class lives mainly in the southern ones, and little to none mix of classes is seen across the city.\n",
    "\n",
    "However, the country has experienced a great economic growth throughout the last decades, lifting the lower class into a higher economic status. This, together with a growth in population, raised the prices of housing across the whole city. \n",
    "\n",
    "In this project I will focus on trying to distinguish the economic status of a commune based on the type of venues that are located within it. Knowing the type of venues that form part of the communes with higher economic status could be of great importance for real estate agnecies. With this information the will be able to determine if a lower class commune is getting a higher economic status if it has similar venue types as higher class communes. If this is the case, they will wnat to invest on this places."
   ]
  },
  {
   "cell_type": "markdown",
   "metadata": {},
   "source": [
    "## Data\n",
    "For this project I will require data about location and development indeces for each commune. Fortunately, I found this information on this link: https://es.wikipedia.org/wiki/Anexo:Comunas_de_Chile. I loaded this data into a dataframe and preprocessed it, obtaining a dasaet called santiago_data that contains the commune name, HDI (human development index and coordinates for each commune in santiago. Together with this information, I obtained data for venues in each Commune using the foursquare API, this information is contained in the santiago_venues dataset. In the following cells you can observe how I obtained and managed the data, together with a map that displays each commune location, together with its name and HDI."
   ]
  },
  {
   "cell_type": "code",
   "execution_count": 113,
   "metadata": {},
   "outputs": [],
   "source": [
    "import pandas as pd # library for data analsysis"
   ]
  },
  {
   "cell_type": "code",
   "execution_count": 114,
   "metadata": {},
   "outputs": [],
   "source": [
    "#loading data\n",
    "df = pd.read_html('https://es.wikipedia.org/wiki/Anexo:Comunas_de_Chile')[0]"
   ]
  },
  {
   "cell_type": "code",
   "execution_count": 115,
   "metadata": {},
   "outputs": [],
   "source": [
    "#changing column names\n",
    "df = df[[\"Nombre\",\"Provincia\", \"IDH 2005.1\", \"Latitud\", \"Longitud\"]]\n",
    "df = df.rename({'Nombre':'Commune'}, axis=1)\n",
    "df = df.rename({'Provincia':'Province'}, axis=1)\n",
    "df = df.rename({'IDH 2005.1':'HDI'}, axis=1)\n",
    "df = df.rename({'Latitud':'Latitude'}, axis=1)\n",
    "df = df.rename({'Longitud':'Longitude'}, axis=1)"
   ]
  },
  {
   "cell_type": "code",
   "execution_count": 116,
   "metadata": {},
   "outputs": [],
   "source": [
    "#translating HDI values\n",
    "df.loc[df['HDI'] == \"Medio\", 'HDI'] = \"Medium\"\n",
    "df.loc[df['HDI'] == \"Alto\", 'HDI'] = \"High\"\n",
    "df.loc[df['HDI'] == \"Muy alto\", 'HDI'] = \"Very high\"\n",
    "df.loc[df['HDI'] == \"Bajo medio\", 'HDI'] = \"Medium low\"\n",
    "df.loc[df['HDI'] == \"Bajo alto\", 'HDI'] = \"Upper low\"\n",
    "df.loc[df['HDI'] == \"Bajo\", 'HDI'] = \"Low\""
   ]
  },
  {
   "cell_type": "code",
   "execution_count": 120,
   "metadata": {},
   "outputs": [],
   "source": [
    "#obtaining only communes from santiago\n",
    "santiago_data = df[df['Province'].str.contains(\"Santiago\")].reset_index(drop=True)"
   ]
  },
  {
   "cell_type": "code",
   "execution_count": 121,
   "metadata": {},
   "outputs": [
    {
     "data": {
      "text/html": [
       "<div>\n",
       "<style scoped>\n",
       "    .dataframe tbody tr th:only-of-type {\n",
       "        vertical-align: middle;\n",
       "    }\n",
       "\n",
       "    .dataframe tbody tr th {\n",
       "        vertical-align: top;\n",
       "    }\n",
       "\n",
       "    .dataframe thead th {\n",
       "        text-align: right;\n",
       "    }\n",
       "</style>\n",
       "<table border=\"1\" class=\"dataframe\">\n",
       "  <thead>\n",
       "    <tr style=\"text-align: right;\">\n",
       "      <th></th>\n",
       "      <th>Commune</th>\n",
       "      <th>Province</th>\n",
       "      <th>HDI</th>\n",
       "      <th>Latitude</th>\n",
       "      <th>Longitude</th>\n",
       "    </tr>\n",
       "  </thead>\n",
       "  <tbody>\n",
       "    <tr>\n",
       "      <th>0</th>\n",
       "      <td>Santiago</td>\n",
       "      <td>Santiago</td>\n",
       "      <td>Very high</td>\n",
       "      <td>-33.437222</td>\n",
       "      <td>-70.657222</td>\n",
       "    </tr>\n",
       "    <tr>\n",
       "      <th>1</th>\n",
       "      <td>Cerrillos</td>\n",
       "      <td>Santiago</td>\n",
       "      <td>High</td>\n",
       "      <td>-33.500000</td>\n",
       "      <td>-70.716667</td>\n",
       "    </tr>\n",
       "    <tr>\n",
       "      <th>2</th>\n",
       "      <td>Cerro Navia</td>\n",
       "      <td>Santiago</td>\n",
       "      <td>Medium</td>\n",
       "      <td>-33.421944</td>\n",
       "      <td>-70.735000</td>\n",
       "    </tr>\n",
       "    <tr>\n",
       "      <th>3</th>\n",
       "      <td>Conchalí</td>\n",
       "      <td>Santiago</td>\n",
       "      <td>High</td>\n",
       "      <td>-33.380000</td>\n",
       "      <td>-70.675000</td>\n",
       "    </tr>\n",
       "    <tr>\n",
       "      <th>4</th>\n",
       "      <td>El Bosque</td>\n",
       "      <td>Santiago</td>\n",
       "      <td>High</td>\n",
       "      <td>-33.566944</td>\n",
       "      <td>-70.675000</td>\n",
       "    </tr>\n",
       "  </tbody>\n",
       "</table>\n",
       "</div>"
      ],
      "text/plain": [
       "       Commune  Province        HDI   Latitude  Longitude\n",
       "0     Santiago  Santiago  Very high -33.437222 -70.657222\n",
       "1    Cerrillos  Santiago       High -33.500000 -70.716667\n",
       "2  Cerro Navia  Santiago     Medium -33.421944 -70.735000\n",
       "3     Conchalí  Santiago       High -33.380000 -70.675000\n",
       "4    El Bosque  Santiago       High -33.566944 -70.675000"
      ]
     },
     "execution_count": 121,
     "metadata": {},
     "output_type": "execute_result"
    }
   ],
   "source": [
    "#changing coordinates types and obtaining final data set\n",
    "import re\n",
    "\n",
    "def dms2dd(degrees, minutes, seconds, direction):\n",
    "    dd = float(degrees) + float(minutes)/60 + float(seconds)/(60*60);\n",
    "    if direction == 'E' or direction == 'N':\n",
    "        dd *= -1\n",
    "    return dd;\n",
    "\n",
    "def dd2dms(deg):\n",
    "    d = int(deg)\n",
    "    md = abs(deg - d) * 60\n",
    "    m = int(md)\n",
    "    sd = (md - m) * 60\n",
    "    return [d, m, sd]\n",
    "\n",
    "def parse_dms(dms):\n",
    "    parts = re.split('[^\\d\\w]+', dms)\n",
    "    lat = dms2dd(parts[0], parts[1], parts[2], parts[3])\n",
    "\n",
    "    return (lat)\n",
    "\n",
    "santiago_data['Longitude'] = santiago_data['Longitude'].map(lambda x: x.lstrip('-') + \".0E\")\n",
    "santiago_data['Longitude'] = santiago_data['Longitude'].map(lambda x: x[:5] + \"\\\\\" + x[5:])\n",
    "santiago_data['Latitude'] = santiago_data['Latitude'].map(lambda x: x.lstrip('-') + \".0S\")\n",
    "santiago_data['Latitude'] = santiago_data['Latitude'].map(lambda x: x[:5] + \"\\\\\" + x[5:])\n",
    "santiago_data['Longitude'] = santiago_data['Longitude'].apply(parse_dms)\n",
    "santiago_data['Latitude'] = santiago_data['Latitude'].apply(parse_dms)\n",
    "santiago_data['Longitude'] = santiago_data['Longitude'].map(lambda x:  -x)\n",
    "santiago_data['Latitude'] = santiago_data['Latitude'].map(lambda x: -x)\n",
    "\n",
    "santiago_data.head()"
   ]
  },
  {
   "cell_type": "code",
   "execution_count": 119,
   "metadata": {},
   "outputs": [
    {
     "name": "stdout",
     "output_type": "stream",
     "text": [
      "Libraries imported.\n"
     ]
    }
   ],
   "source": [
    "#importing libraries for the next section\n",
    "from geopy.geocoders import Nominatim # convert an address into latitude and longitude values\n",
    "\n",
    "import requests # library to handle requests\n",
    "from pandas.io.json import json_normalize # tranform JSON file into a pandas dataframe\n",
    "\n",
    "# Matplotlib and associated plotting modules\n",
    "import matplotlib.cm as cm\n",
    "import matplotlib.colors as colors\n",
    "\n",
    "# import k-means from clustering stage\n",
    "from sklearn.cluster import KMeans\n",
    "\n",
    "#!conda install -c conda-forge folium=0.5.0 --yes # uncomment this line if you haven't completed the Foursquare API lab\n",
    "import folium # map rendering library\n",
    "\n",
    "print('Libraries imported.')"
   ]
  },
  {
   "cell_type": "code",
   "execution_count": 106,
   "metadata": {},
   "outputs": [
    {
     "name": "stdout",
     "output_type": "stream",
     "text": [
      "The geograpical coordinate of Santiago are -33.4377968, -70.6504451.\n"
     ]
    }
   ],
   "source": [
    "#obtaining coordinates from Santiago\n",
    "address = 'Santiago, Chile'\n",
    "geolocator = Nominatim(user_agent=\"ny_explorer\")\n",
    "location = geolocator.geocode(address)\n",
    "latitude = location.latitude\n",
    "longitude = location.longitude\n",
    "print('The geograpical coordinate of Santiago are {}, {}.'.format(latitude, longitude))"
   ]
  },
  {
   "cell_type": "code",
   "execution_count": 122,
   "metadata": {},
   "outputs": [
    {
     "data": {
      "text/html": [
       "<div style=\"width:100%;\"><div style=\"position:relative;width:100%;height:0;padding-bottom:60%;\"><span style=\"color:#565656\">Make this Notebook Trusted to load map: File -> Trust Notebook</span><iframe src=\"about:blank\" style=\"position:absolute;width:100%;height:100%;left:0;top:0;border:none !important;\" data-html=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 onload=\"this.contentDocument.open();this.contentDocument.write(atob(this.getAttribute('data-html')));this.contentDocument.close();\" allowfullscreen webkitallowfullscreen mozallowfullscreen></iframe></div></div>"
      ],
      "text/plain": [
       "<folium.folium.Map at 0x1a1b06af50>"
      ]
     },
     "execution_count": 122,
     "metadata": {},
     "output_type": "execute_result"
    }
   ],
   "source": [
    "#Displaying data in a map\n",
    "map_santiago = folium.Map(location=[latitude, longitude], zoom_start=10)\n",
    "\n",
    "# add markers to map\n",
    "for lat, lng,name, HDI in zip(santiago_data['Latitude'], santiago_data['Longitude'], santiago_data['Commune'], santiago_data['HDI']):\n",
    "    label = folium.Popup(name + \",\" + HDI, parse_html=True)\n",
    "    folium.CircleMarker(\n",
    "        [lat, lng],\n",
    "        radius=5,\n",
    "        color='blue',\n",
    "        popup=label,\n",
    "        fill=True,\n",
    "        fill_color='#3186cc',\n",
    "        fill_opacity=0.7,\n",
    "        parse_html=False).add_to(map_santiago)  \n",
    "    \n",
    "map_santiago"
   ]
  },
  {
   "cell_type": "code",
   "execution_count": 108,
   "metadata": {},
   "outputs": [],
   "source": [
    "# import function to get venues near each commune\n",
    "CLIENT_ID = 'VHT0HA320F3E5KQIHMDEFI0ZCHN1HAOKRPYSIV2MSXY0RK2U' # your Foursquare ID\n",
    "CLIENT_SECRET = 'FZHLZQKDLUYJZEVT2JLKZOP10R5WG2RJHZUNLURMI2KQG4CP' # your Foursquare Secret\n",
    "VERSION = '20180604'\n",
    "radius = 3000\n",
    "LIMIT = 100\n",
    "def getNearbyVenues(names, latitudes, longitudes, radius=500):\n",
    "    \n",
    "    venues_list=[]\n",
    "    for name, lat, lng in zip(names, latitudes, longitudes):\n",
    "            \n",
    "        # create the API request URL\n",
    "        url = 'https://api.foursquare.com/v2/venues/explore?&client_id={}&client_secret={}&v={}&ll={},{}&radius={}&limit={}'.format(\n",
    "            CLIENT_ID, \n",
    "            CLIENT_SECRET, \n",
    "            VERSION, \n",
    "            lat, \n",
    "            lng, \n",
    "            radius, \n",
    "            LIMIT)\n",
    "            \n",
    "        # make the GET request\n",
    "        results = requests.get(url).json()[\"response\"]['groups'][0]['items']\n",
    "        \n",
    "        # return only relevant information for each nearby venue\n",
    "        venues_list.append([(\n",
    "            name, \n",
    "            lat, \n",
    "            lng, \n",
    "            v['venue']['name'], \n",
    "            v['venue']['location']['lat'], \n",
    "            v['venue']['location']['lng'],  \n",
    "            v['venue']['categories'][0]['name']) for v in results])\n",
    "\n",
    "    nearby_venues = pd.DataFrame([item for venue_list in venues_list for item in venue_list])\n",
    "    nearby_venues.columns = ['Neighborhood', \n",
    "                  'Neighborhood Latitude', \n",
    "                  'Neighborhood Longitude', \n",
    "                  'Venue', \n",
    "                  'Venue Latitude', \n",
    "                  'Venue Longitude', \n",
    "                  'Venue Category']\n",
    "    \n",
    "    return(nearby_venues)"
   ]
  },
  {
   "cell_type": "code",
   "execution_count": null,
   "metadata": {},
   "outputs": [],
   "source": [
    "# we get nearby venues for each commune and save it in santiago_venues dataframe\n",
    "santiago_venues = getNearbyVenues(names=santiago_data['Commune'],\n",
    "                                   latitudes=santiago_data['Latitude'],\n",
    "                                   longitudes=santiago_data['Longitude']\n",
    "                                  )\n",
    "print(santiago_venues.shape)\n",
    "santiago_venues.head()"
   ]
  },
  {
   "cell_type": "code",
   "execution_count": null,
   "metadata": {},
   "outputs": [],
   "source": []
  },
  {
   "cell_type": "code",
   "execution_count": null,
   "metadata": {},
   "outputs": [],
   "source": []
  }
 ],
 "metadata": {
  "kernelspec": {
   "display_name": "Python 3",
   "language": "python",
   "name": "python3"
  },
  "language_info": {
   "codemirror_mode": {
    "name": "ipython",
    "version": 3
   },
   "file_extension": ".py",
   "mimetype": "text/x-python",
   "name": "python",
   "nbconvert_exporter": "python",
   "pygments_lexer": "ipython3",
   "version": "3.7.6"
  }
 },
 "nbformat": 4,
 "nbformat_minor": 4
}
